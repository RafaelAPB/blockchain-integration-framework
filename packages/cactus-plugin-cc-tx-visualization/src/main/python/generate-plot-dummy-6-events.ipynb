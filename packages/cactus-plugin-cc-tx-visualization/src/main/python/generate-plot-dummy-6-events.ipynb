{
 "cells": [
  {
   "cell_type": "code",
   "execution_count": 1,
   "metadata": {},
   "outputs": [
    {
     "name": "stdout",
     "output_type": "stream",
     "text": [
      "Requirement already satisfied: SciencePlots in /home/rafaelapb/.local/lib/python3.8/site-packages (1.0.9)\n",
      "Requirement already satisfied: matplotlib in /home/rafaelapb/.local/lib/python3.8/site-packages (from SciencePlots) (3.5.2)\n",
      "Requirement already satisfied: packaging>=20.0 in /home/rafaelapb/.local/lib/python3.8/site-packages (from matplotlib->SciencePlots) (21.3)\n",
      "Requirement already satisfied: pillow>=6.2.0 in /home/rafaelapb/.local/lib/python3.8/site-packages (from matplotlib->SciencePlots) (9.1.1)\n",
      "Requirement already satisfied: cycler>=0.10 in /home/rafaelapb/.local/lib/python3.8/site-packages (from matplotlib->SciencePlots) (0.11.0)\n",
      "Requirement already satisfied: kiwisolver>=1.0.1 in /home/rafaelapb/.local/lib/python3.8/site-packages (from matplotlib->SciencePlots) (1.4.2)\n",
      "Requirement already satisfied: python-dateutil>=2.7 in /home/rafaelapb/.local/lib/python3.8/site-packages (from matplotlib->SciencePlots) (2.8.2)\n",
      "Requirement already satisfied: numpy>=1.17 in /home/rafaelapb/.local/lib/python3.8/site-packages (from matplotlib->SciencePlots) (1.22.3)\n",
      "Requirement already satisfied: pyparsing>=2.2.1 in /home/rafaelapb/.local/lib/python3.8/site-packages (from matplotlib->SciencePlots) (3.0.9)\n",
      "Requirement already satisfied: fonttools>=4.22.0 in /home/rafaelapb/.local/lib/python3.8/site-packages (from matplotlib->SciencePlots) (4.33.3)\n",
      "Requirement already satisfied: six>=1.5 in /usr/lib/python3/dist-packages (from python-dateutil>=2.7->matplotlib->SciencePlots) (1.14.0)\n",
      "Note: you may need to restart the kernel to use updated packages.\n",
      "Requirement already satisfied: sklearn in /home/rafaelapb/.local/lib/python3.8/site-packages (0.0)\n",
      "Requirement already satisfied: scikit-learn in /home/rafaelapb/.local/lib/python3.8/site-packages (from sklearn) (1.1.1)\n",
      "Requirement already satisfied: threadpoolctl>=2.0.0 in /home/rafaelapb/.local/lib/python3.8/site-packages (from scikit-learn->sklearn) (3.1.0)\n",
      "Requirement already satisfied: scipy>=1.3.2 in /home/rafaelapb/.local/lib/python3.8/site-packages (from scikit-learn->sklearn) (1.8.1)\n",
      "Requirement already satisfied: numpy>=1.17.3 in /home/rafaelapb/.local/lib/python3.8/site-packages (from scikit-learn->sklearn) (1.22.3)\n",
      "Requirement already satisfied: joblib>=1.0.0 in /home/rafaelapb/.local/lib/python3.8/site-packages (from scikit-learn->sklearn) (1.1.0)\n",
      "Note: you may need to restart the kernel to use updated packages.\n"
     ]
    }
   ],
   "source": [
    "%pip install SciencePlots\n",
    "%pip install sklearn\n",
    "\n",
    "from functools import reduce\n",
    "from statistics import mean, stdev, mode, quantiles\n",
    "import matplotlib.pyplot as plt\n",
    "plt.style.use(['science','ieee'])\n",
    "\n",
    "import re\n",
    "import pandas as pd\n",
    "from os import walk\n",
    "import numpy as np\n",
    "import matplotlib\n",
    "import os"
   ]
  },
  {
   "cell_type": "code",
   "execution_count": 2,
   "metadata": {},
   "outputs": [
    {
     "name": "stdout",
     "output_type": "stream",
     "text": [
      "/home/rbelchior/blockchain-integration-framework/packages/cactus-plugin-cc-tx-visualization/src/main\n",
      "['/home/rafaelapb/.local/lib/python3.8/site-packages/ipykernel_launcher.py', '--ip=127.0.0.1', '--stdin=9013', '--control=9011', '--hb=9010', '--Session.signature_scheme=\"hmac-sha256\"', '--Session.key=b\"08b47fa9-3174-4e29-b05b-50f5f7c0533b\"', '--shell=9012', '--transport=\"tcp\"', '--iopub=9014', '--f=/home/rafaelapb/.local/share/jupyter/runtime/kernel-v2-4505mNpNGklzTnQ2.json']\n",
      "/home/rbelchior/blockchain-integration-framework/packages/cactus-plugin-cc-tx-visualization/src/main/test-results/\n"
     ]
    }
   ],
   "source": [
    "# /usr/bin/env TS_NODE_PROJECT=tsconfig.json 'OFF-HFC_LOGGING={\"debug\":\"console\",\"info\":\"console\"}' 'NODE_OPTIONS=--require /home/rafaelapb/.vscode-server-insiders/bin/4589815e4849499c67125ff68563fa102646b869/extensions/ms-vscode.js-debug/src/bootloader.bundle.js --inspect-publish-uid=http' 'VSCODE_INSPECTOR_OPTIONS={\"inspectorIpc\":\"/tmp/node-cdp.33739-1.sock\",\"deferredMode\":false,\"waitForDebugger\":\"\",\"execPath\":\"/home/rafaelapb/.nvm/versions/node/v16.14.0/bin/node\",\"onlyEntrypoint\":false,\"autoAttachMode\":\"always\",\"mandatePortTracking\":true,\"fileCallback\":\"/tmp/node-debug-callback-10ce8a101bff4e7a\"}' /home/rafaelapb/.nvm/versions/node/v16.14.0/bin/node --require ts-node/register --async-stack-traces packages/cactus-plugin-cc-tx-visualization/src/test/typescript/integration/cctxviz-persist-cross-chain-log.test.ts > packages/cactus-plugin-cc-tx-visualization/src/test/typescript/csv/out.txt\n",
    "path = os.getcwd()\n",
    "parent = os.path.dirname(path)\n",
    "print(parent)\n",
    "test_result_path = parent + \"/test-results/\"\n",
    "NUMBER_TESTS = 30\n",
    "\n",
    "import sys\n",
    "\n",
    "if __name__ == '__main__':\n",
    "    print(sys.argv)\n",
    "    print(test_result_path)\n",
    "\n",
    "\n",
    "\n",
    "#(.)*-dummy-\\d+.out captures:\n",
    "# cctxviz-generate-use-case-dummy-1.out and cctxviz-generate-use-case-dummy-58.out\n",
    "\n",
    "#(.)*-dummy-\\d+-events-\\d+.out captures\n",
    "#cctxviz-generate-use-case-dummy-60-events-1.out and cctxviz-generate-use-case-dummy-60-events-97.out\n",
    "def get_all_files(path,regex):\n",
    "    filenames = []\n",
    "    for _, _, filenames in sorted(walk(path)):\n",
    "        break\n",
    "    #regex all out: .*\\.out\n",
    "    # for dummy use case: (.)*-dummy-\\d.out\n",
    "    filenames = [i for i in filenames if re.match(regex, i)]\n",
    "    return filenames\n"
   ]
  },
  {
   "cell_type": "code",
   "execution_count": 3,
   "metadata": {},
   "outputs": [
    {
     "name": "stdout",
     "output_type": "stream",
     "text": [
      "found 100 matches\n",
      "{'EVAL-ccModel-DUMMY': {'label': 'EVAL-ccModel-DUMMY', 'mean': 83.51, 'stdev': 1.95, 'mode': 83.18, 'quantiles': [82.08500000000001, 83.06, 84.05000000000001]}, 'EVAL-SETUP-INIT-RABBIT-MQ-SERVER': {'label': 'EVAL-SETUP-INIT-RABBIT-MQ-SERVER', 'mean': 1391.6, 'stdev': 83.03, 'mode': 1358.0, 'quantiles': [1357.75, 1370.5, 1403.0]}, 'EVAL-plugin-cc-tx-visualization-SETUP-CONSTRUCTOR': {'label': 'EVAL-plugin-cc-tx-visualization-SETUP-CONSTRUCTOR', 'mean': 1.43, 'stdev': 0.57, 'mode': 1.0, 'quantiles': [1.0, 1.0, 2.0]}, 'EVAL-testFile-SETUP-INFRA': {'label': 'EVAL-testFile-SETUP-INFRA', 'mean': 1397.53, 'stdev': 83.06, 'mode': 1363.0, 'quantiles': [1363.0, 1377.5, 1408.25]}, 'EVAL-testFile-SEND-MESSAGES': {'label': 'EVAL-testFile-SEND-MESSAGES', 'mean': 0.47, 'stdev': 0.51, 'mode': 0.0, 'quantiles': [0.0, 0.0, 1.0]}, 'EVAL-testFile-POLL': {'label': 'EVAL-testFile-POLL', 'mean': 3030.27, 'stdev': 8.94, 'mode': 3026.0, 'quantiles': [3026.0, 3028.5, 3031.0]}, 'EVAL-plugin-cc-tx-visualization-RECEIPT2EVENT': {'label': 'EVAL-plugin-cc-tx-visualization-RECEIPT2EVENT', 'mean': 0.7, 'stdev': 0.53, 'mode': 1.0, 'quantiles': [0.0, 1.0, 1.0]}, 'EVAL-plugin-cc-tx-visualization-PERSIST-LOG': {'label': 'EVAL-plugin-cc-tx-visualization-PERSIST-LOG', 'mean': 0.77, 'stdev': 0.57, 'mode': 1.0, 'quantiles': [0.0, 1.0, 1.0]}, 'EVAL-testFile-AGGREGATE-CCTX': {'label': 'EVAL-testFile-AGGREGATE-CCTX', 'mean': 0.67, 'stdev': 0.61, 'mode': 1.0, 'quantiles': [0.0, 1.0, 1.0]}}\n",
      "dict_values([{'label': 'EVAL-ccModel-DUMMY', 'mean': 83.51, 'stdev': 1.95, 'mode': 83.18, 'quantiles': [82.08500000000001, 83.06, 84.05000000000001]}, {'label': 'EVAL-SETUP-INIT-RABBIT-MQ-SERVER', 'mean': 1391.6, 'stdev': 83.03, 'mode': 1358.0, 'quantiles': [1357.75, 1370.5, 1403.0]}, {'label': 'EVAL-plugin-cc-tx-visualization-SETUP-CONSTRUCTOR', 'mean': 1.43, 'stdev': 0.57, 'mode': 1.0, 'quantiles': [1.0, 1.0, 2.0]}, {'label': 'EVAL-testFile-SETUP-INFRA', 'mean': 1397.53, 'stdev': 83.06, 'mode': 1363.0, 'quantiles': [1363.0, 1377.5, 1408.25]}, {'label': 'EVAL-testFile-SEND-MESSAGES', 'mean': 0.47, 'stdev': 0.51, 'mode': 0.0, 'quantiles': [0.0, 0.0, 1.0]}, {'label': 'EVAL-testFile-POLL', 'mean': 3030.27, 'stdev': 8.94, 'mode': 3026.0, 'quantiles': [3026.0, 3028.5, 3031.0]}, {'label': 'EVAL-plugin-cc-tx-visualization-RECEIPT2EVENT', 'mean': 0.7, 'stdev': 0.53, 'mode': 1.0, 'quantiles': [0.0, 1.0, 1.0]}, {'label': 'EVAL-plugin-cc-tx-visualization-PERSIST-LOG', 'mean': 0.77, 'stdev': 0.57, 'mode': 1.0, 'quantiles': [0.0, 1.0, 1.0]}, {'label': 'EVAL-testFile-AGGREGATE-CCTX', 'mean': 0.67, 'stdev': 0.61, 'mode': 1.0, 'quantiles': [0.0, 1.0, 1.0]}])\n"
     ]
    }
   ],
   "source": [
    "def exists (element):\n",
    "    if (element):\n",
    "        return True\n",
    "    else:\n",
    "        return False\n",
    "            \n",
    "            # Load out file and puts variables in dict\n",
    "files = get_all_files(test_result_path, \"dummy-use-case-6-(.)*-\\d+.out\")\n",
    "entries = len(files) / 2\n",
    "print(f\"found {len(files)} matches\")\n",
    "metric_dict = dict()\n",
    "\n",
    "for file in files:\n",
    "    file_path = test_result_path + file\n",
    "    #print (f\"opening {file_path}\\n\")\n",
    "    f = open(file_path)\n",
    "    regex = \"(EVAL-.*):*\"\n",
    "\n",
    "\n",
    "    matches = filter(exists,[re.findall(regex, line) for line in f])\n",
    "    for i in matches:\n",
    "        expression = i[0].split(\":\")\n",
    "        key = expression[0]\n",
    "        value = expression[1]\n",
    "        #already defined\n",
    "        if metric_dict.get(key):\n",
    "            metric_dict[key].append(value)\n",
    "        else: \n",
    "            metric_dict[key] = [value]\n",
    "\n",
    "#print(\"the metric dictionary is\")\n",
    "#print(metric_dict)\n",
    "reduced_metric_dict = dict()\n",
    "#print(metric_dict.values())\n",
    "#reduced_metric_dict = reduce(lambda x, list: x + mean(list), metric_dict.values(),0)       \n",
    "\n",
    "TO_SKIP_EACH_SIDE = 10\n",
    "# remove X first and last entries\n",
    "# we are only counting X-20 entries\n",
    "if entries > TO_SKIP_EACH_SIDE:\n",
    "    for element in metric_dict:\n",
    "        metric_dict[element] = metric_dict[element][TO_SKIP_EACH_SIDE:]\n",
    "        metric_dict[element] = metric_dict[element][:len(metric_dict[element])-TO_SKIP_EACH_SIDE]\n",
    "\n",
    "\n",
    "for element in metric_dict:\n",
    "    data_container = {\n",
    "        \"label\": element,\n",
    "        \"mean\": round(mean(map(lambda x: float(x), metric_dict[element])),2),\n",
    "        \"stdev\": round(stdev(map(lambda x: float(x), metric_dict[element])),2),\n",
    "        \"mode\": mode(map(lambda x: float(x), metric_dict[element])),\n",
    "        \"quantiles\": quantiles(map(lambda x: float(x), metric_dict[element])),\n",
    "    }\n",
    "    reduced_metric_dict[element] = data_container\n",
    "print(reduced_metric_dict)\n",
    "print(reduced_metric_dict.values())\n",
    "#print(reduced_metric_dict['EVAL-testFile-SETUP-INFRA']['mean'])\n",
    "\n",
    "\n",
    "\n",
    "    \n",
    "\n"
   ]
  },
  {
   "cell_type": "code",
   "execution_count": 4,
   "metadata": {},
   "outputs": [],
   "source": [
    "mapper = {\n",
    "    # - Initialize Infrastructure (RabbitMQ server, RabbitMQ client, Test ledgers, Connectors), + init cctxviz on test file\n",
    "    'EVAL-testFile-SETUP-INFRA': 'Infrastructure Setup',\n",
    "\n",
    "    # send a rabbit mq message or call a modified connector\n",
    "    'EVAL-testFile-SEND-MESSAGES': 'Emit Local Transactions',\n",
    "\n",
    "    # capture rabbit mq messages; can be subdivided see next 2 entries\n",
    "    'EVAL-testFile-POLL': 'Poll Transaction Receipts',\n",
    "\n",
    "    # issue tx and send to rabbit mq - fabric/besu\n",
    "    'EVAL-PluginLedgerConnectorFabric-ISSUE-TRANSACTION': 'Fabric Transaction (modified)',\n",
    "    'EVAL-PluginLedgerConnectorBesu-ISSUE-TRANSACTION': 'Besu Receipt (modified)',\n",
    "    \n",
    "    # transform raw receipt into fabric/besu receipt\n",
    "    'EVAL-PluginLedgerConnectorFabric-GENERATE-AND-CAPTURE-RECEIPT': 'Create Fabric Receipt',\n",
    "    'EVAL-PluginLedgerConnectorBesu-GENERATE-AND-CAPTURE-RECEIPT': 'Create Besu Receipt',\n",
    "\n",
    "    # runs txReceiptToCrossChainEventLogEntry\n",
    "    'EVAL-plugin-cc-tx-visualization-RECEIPT2EVENT': 'Create CC Event',\n",
    "\n",
    "    # runs aggregateCcTx\n",
    "    'EVAL-testFile-AGGREGATE-CCTX': \"Create CC-Tx\",\n",
    "\n",
    "    'EVAL-ccModel-DUMMY': \"Create CC-Model\"\n",
    "}\n",
    "\n"
   ]
  },
  {
   "cell_type": "code",
   "execution_count": 5,
   "metadata": {},
   "outputs": [
    {
     "data": {
      "image/png": "[encoded data removed]",
      "text/plain": [
       "<Figure size 432x360 with 1 Axes>"
      ]
     },
     "metadata": {
      "needs_background": "light"
     },
     "output_type": "display_data"
    }
   ],
   "source": [
    "plt.rcParams.update(plt.rcParamsDefault)\n",
    "\n",
    "width = 1.9 # the width# of the bars: can also be len(x) sequence\n",
    "#label = [\"Baseline End-to-end CC-Model Generation\"]\n",
    "label = [\"6 events\"]\n",
    "plt.rcParams[\"font.size\"] = \"12\"\n",
    "fig, ax = plt.subplots(figsize=[6, 5])\n",
    "\n",
    "viridis = plt.cm.get_cmap('tab20c')\n",
    "#viridis.colors = viridis.colors[::-1]\n",
    "\n",
    "phase_1 = reduced_metric_dict['EVAL-testFile-SETUP-INFRA']['mean']\n",
    "phase_1_stdev = reduced_metric_dict['EVAL-testFile-SETUP-INFRA']['stdev']\n",
    "\n",
    "phase_2 = reduced_metric_dict['EVAL-testFile-SEND-MESSAGES']['mean']\n",
    "phase_2_stdev = reduced_metric_dict['EVAL-testFile-SEND-MESSAGES']['stdev']\n",
    "\n",
    "phase_3 = reduced_metric_dict['EVAL-testFile-POLL']['mean']\n",
    "phase_3_stdev = reduced_metric_dict['EVAL-testFile-POLL']['stdev']\n",
    "phase_3_label = mapper['EVAL-testFile-POLL']\n",
    "\n",
    "# merged phases 4 and 5\n",
    "phase_4 = reduced_metric_dict['EVAL-plugin-cc-tx-visualization-RECEIPT2EVENT']['mean']\n",
    "phase_4_stdev = reduced_metric_dict['EVAL-plugin-cc-tx-visualization-RECEIPT2EVENT']['stdev']\n",
    "phase_4_label = mapper['EVAL-plugin-cc-tx-visualization-RECEIPT2EVENT']\n",
    "phase_5 = reduced_metric_dict['EVAL-testFile-AGGREGATE-CCTX']['mean']\n",
    "phase_5_stdev = reduced_metric_dict['EVAL-testFile-AGGREGATE-CCTX']['stdev']\n",
    "phase_5_label = mapper['EVAL-testFile-AGGREGATE-CCTX']\n",
    "\n",
    "phase_6 = reduced_metric_dict['EVAL-ccModel-DUMMY']['mean']\n",
    "phase_6_stdev = reduced_metric_dict['EVAL-ccModel-DUMMY']['stdev']\n",
    "phase_6_label = mapper['EVAL-ccModel-DUMMY']\n",
    "\n",
    "ax.bar(label, phase_1, width, yerr=phase_1_stdev,\n",
    "           bottom=None,\n",
    "           color=viridis.colors[0],\n",
    "           label='$P_1$ - ' + mapper['EVAL-testFile-SETUP-INFRA'])\n",
    "\n",
    "ax.bar(label, phase_2, width, yerr=phase_2_stdev,\n",
    "           bottom=phase_1,\n",
    "           color=viridis.colors[4],\n",
    "           label='$P_{2.1}$ - ' + mapper['EVAL-testFile-SEND-MESSAGES'])\n",
    "\n",
    "ax.bar(label, phase_3, width, yerr=phase_3_stdev,\n",
    "           bottom=phase_1 + phase_2,\n",
    "           color=viridis.colors[5],\n",
    "           label='$P_{2.2}$ - ' + phase_3_label)\n",
    "\n",
    "#ax.bar(label, phase_4, width, yerr=phase_4_stdev,\n",
    "#           bottom=phase_1 + phase_2 + phase_3,\n",
    "#           color=viridis.colors[4],\n",
    "#           label=phase_4_label)\n",
    "\n",
    "ax.bar(label, (phase_4 + phase_5), width, yerr=phase_4_stdev + phase_5_stdev,\n",
    "           bottom=phase_1 + phase_2 + phase_3,\n",
    "           color=viridis.colors[8],\n",
    "           label='$P_{3.1}$ - ' + phase_5_label)\n",
    "\n",
    "ax.bar(label, phase_6, width, yerr=phase_6_stdev,\n",
    "           bottom=phase_1 + phase_2 + phase_3 + phase_4 + phase_5,\n",
    "           color=viridis.colors[10],\n",
    "           label='$P_{3.2}$ - ' + phase_6_label)\n",
    "\n",
    "\n",
    "\n",
    "#ax.bar(\"nova\", 1111, width, yerr=0,\n",
    "#            align=\"edge\",\n",
    "#           bottom=None,\n",
    "##           color=viridis.colors[17],\n",
    " #          label=mapper['EVAL-testFile-SETUP-INFRA'])\n",
    "\n",
    "customScale = np.array([500,1000,1500,2000,2500,3000,3500,4000])\n",
    "\n",
    "\n",
    "textwidth = 3.31314\n",
    "aspect_ratio = 6/8\n",
    "scale = 1.0\n",
    "width = textwidth * scale\n",
    "height = width * aspect_ratio\n",
    "\n",
    "\n",
    "\n",
    "ax.set_ylabel('Time (ms)')\n",
    "ax.set_xlabel('Events')\n",
    "\n",
    "ax.set_xlim(-3, 8)\n",
    "ax.set_ylim(500,4700)\n",
    "handles, labels = ax.get_legend_handles_labels()\n",
    "ax.legend(handles[::-1], labels[::-1], loc='upper right')\n",
    "#ax.set_title('Implementation performance depending on Access Control Policies')\n",
    "ax.grid(linestyle='--', linewidth=1.1, axis='y', alpha=0.5)\n",
    "\n",
    "\n",
    "\n",
    "\n",
    "fig.savefig('../test-results/plots/dummy-baseline.pdf', dpi=300, bbox_inches='tight')\n",
    "fig.savefig('../test-results/plots/dummy-baseline.png', dpi=300, bbox_inches='tight')\n"
   ]
  },
  {
   "cell_type": "code",
   "execution_count": 9,
   "metadata": {},
   "outputs": [
    {
     "name": "stdout",
     "output_type": "stream",
     "text": [
      "[  0   6  65 661]\n"
     ]
    },
    {
     "data": {
      "image/png": "[encoded data removed]",
      "text/plain": [
       "<Figure size 432x360 with 1 Axes>"
      ]
     },
     "metadata": {
      "needs_background": "light"
     },
     "output_type": "display_data"
    }
   ],
   "source": [
    "\n",
    "from sklearn.linear_model import LinearRegression\n",
    "\n",
    "\n",
    "storage_values = np.array([789,6789,67275,677481,6893487])\n",
    "storage_values_kb = storage_values // 1024\n",
    "print (storage_values_kb[:-1])\n",
    "\n",
    "events_number = np.array([6,60,600,6000,60000])\n",
    "\n",
    "x = events_number[:-1]\n",
    "y = storage_values_kb[:-1]\n",
    "x_baseline = np.linspace(0,6050)\n",
    "y_baseline = np.linspace(0,700)\n",
    "\n",
    "model = LinearRegression()\n",
    "model.fit(x.reshape(-1,1), y)\n",
    "\n",
    "y_new = model.predict(x[:, np.newaxis])\n",
    "#plt.plot(x, y_new)\n",
    "\n",
    "plt.plot(x_baseline, y_baseline, ':', linewidth=2, color='orange')\n",
    "plt.legend(['$x = y$'])\n",
    "\n",
    "plt.plot(x,y)\n",
    "plt.scatter(x,y)\n",
    "plt.legend(['$x = y$', \"storage\"],loc =\"upper left\")\n",
    "\n",
    "plt.xlabel(\"Number of events\")\n",
    "plt.ylabel(\"Storage (Kb)\")\n",
    "plt.xlim(0, 6050)\n",
    "plt.ylim(0,700)\n",
    "\n",
    "\n",
    "plt.savefig('../test-results/plots/dummy-baseline-storage.pdf', dpi=300,bbox_inches='tight')\n",
    "plt.savefig('../test-results/plots/dummy-baseline-storage.png', dpi=300,bbox_inches='tight')\n",
    "plt.tight_layout()\n",
    "\n",
    "plt.show()\n",
    "\n",
    "\n",
    "\n"
   ]
  },
  {
   "cell_type": "code",
   "execution_count": 20,
   "metadata": {},
   "outputs": [
    {
     "ename": "AttributeError",
     "evalue": "'numpy.ndarray' object has no attribute 'set_ylabel'",
     "output_type": "error",
     "traceback": [
      "\u001b[0;31m---------------------------------------------------------------------------\u001b[0m",
      "\u001b[0;31mAttributeError\u001b[0m                            Traceback (most recent call last)",
      "\u001b[1;32m/home/rbelchior/blockchain-integration-framework/packages/cactus-plugin-cc-tx-visualization/src/main/python/generate-plot-dummy-6-events.ipynb Cell 7\u001b[0m in \u001b[0;36m<cell line: 87>\u001b[0;34m()\u001b[0m\n\u001b[1;32m     <a href='vscode-notebook-cell://ssh-remote%2B7b22686f73744e616d65223a2242442d6361637475732d646576227d/home/rbelchior/blockchain-integration-framework/packages/cactus-plugin-cc-tx-visualization/src/main/python/generate-plot-dummy-6-events.ipynb#ch0000007vscode-remote?line=81'>82</a>\u001b[0m width \u001b[39m=\u001b[39m textwidth \u001b[39m*\u001b[39m scale\n\u001b[1;32m     <a href='vscode-notebook-cell://ssh-remote%2B7b22686f73744e616d65223a2242442d6361637475732d646576227d/home/rbelchior/blockchain-integration-framework/packages/cactus-plugin-cc-tx-visualization/src/main/python/generate-plot-dummy-6-events.ipynb#ch0000007vscode-remote?line=82'>83</a>\u001b[0m height \u001b[39m=\u001b[39m width \u001b[39m*\u001b[39m aspect_ratio\n\u001b[0;32m---> <a href='vscode-notebook-cell://ssh-remote%2B7b22686f73744e616d65223a2242442d6361637475732d646576227d/home/rbelchior/blockchain-integration-framework/packages/cactus-plugin-cc-tx-visualization/src/main/python/generate-plot-dummy-6-events.ipynb#ch0000007vscode-remote?line=86'>87</a>\u001b[0m ax\u001b[39m.\u001b[39;49mset_ylabel(\u001b[39m'\u001b[39m\u001b[39mTime (ms)\u001b[39m\u001b[39m'\u001b[39m)\n\u001b[1;32m     <a href='vscode-notebook-cell://ssh-remote%2B7b22686f73744e616d65223a2242442d6361637475732d646576227d/home/rbelchior/blockchain-integration-framework/packages/cactus-plugin-cc-tx-visualization/src/main/python/generate-plot-dummy-6-events.ipynb#ch0000007vscode-remote?line=87'>88</a>\u001b[0m ax\u001b[39m.\u001b[39mset_xlabel(\u001b[39m'\u001b[39m\u001b[39mEvents\u001b[39m\u001b[39m'\u001b[39m)\n\u001b[1;32m     <a href='vscode-notebook-cell://ssh-remote%2B7b22686f73744e616d65223a2242442d6361637475732d646576227d/home/rbelchior/blockchain-integration-framework/packages/cactus-plugin-cc-tx-visualization/src/main/python/generate-plot-dummy-6-events.ipynb#ch0000007vscode-remote?line=89'>90</a>\u001b[0m ax\u001b[39m.\u001b[39mset_xlim(\u001b[39m-\u001b[39m\u001b[39m3\u001b[39m, \u001b[39m8\u001b[39m)\n",
      "\u001b[0;31mAttributeError\u001b[0m: 'numpy.ndarray' object has no attribute 'set_ylabel'"
     ]
    },
    {
     "data": {
      "image/png": "[encoded data removed]",
      "text/plain": [
       "<Figure size 432x288 with 2 Axes>"
      ]
     },
     "metadata": {
      "needs_background": "light"
     },
     "output_type": "display_data"
    }
   ],
   "source": []
  },
  {
   "cell_type": "markdown",
   "metadata": {},
   "source": []
  }
 ],
 "metadata": {
  "kernelspec": {
   "display_name": "Python 3.8.10 64-bit",
   "language": "python",
   "name": "python3"
  },
  "language_info": {
   "codemirror_mode": {
    "name": "ipython",
    "version": 3
   },
   "file_extension": ".py",
   "mimetype": "text/x-python",
   "name": "python",
   "nbconvert_exporter": "python",
   "pygments_lexer": "ipython3",
   "version": "3.8.10"
  },
  "orig_nbformat": 4,
  "vscode": {
   "interpreter": {
    "hash": "31f2aee4e71d21fbe5cf8b01ff0e069b9275f58929596ceb00d14d90e3e16cd6"
   }
  }
 },
 "nbformat": 4,
 "nbformat_minor": 2
}
