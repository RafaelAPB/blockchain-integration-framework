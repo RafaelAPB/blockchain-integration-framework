{
 "cells": [
  {
   "cell_type": "code",
   "execution_count": 82,
   "metadata": {},
   "outputs": [
    {
     "name": "stdout",
     "output_type": "stream",
     "text": [
      "Requirement already satisfied: SciencePlots in /home/rafaelapb/.local/lib/python3.8/site-packages (1.0.9)\n",
      "Requirement already satisfied: matplotlib in /home/rafaelapb/.local/lib/python3.8/site-packages (from SciencePlots) (3.5.2)\n",
      "Requirement already satisfied: kiwisolver>=1.0.1 in /home/rafaelapb/.local/lib/python3.8/site-packages (from matplotlib->SciencePlots) (1.4.2)\n",
      "Requirement already satisfied: fonttools>=4.22.0 in /home/rafaelapb/.local/lib/python3.8/site-packages (from matplotlib->SciencePlots) (4.33.3)\n",
      "Requirement already satisfied: numpy>=1.17 in /home/rafaelapb/.local/lib/python3.8/site-packages (from matplotlib->SciencePlots) (1.22.3)\n",
      "Requirement already satisfied: cycler>=0.10 in /home/rafaelapb/.local/lib/python3.8/site-packages (from matplotlib->SciencePlots) (0.11.0)\n",
      "Requirement already satisfied: pillow>=6.2.0 in /home/rafaelapb/.local/lib/python3.8/site-packages (from matplotlib->SciencePlots) (9.1.1)\n",
      "Requirement already satisfied: python-dateutil>=2.7 in /home/rafaelapb/.local/lib/python3.8/site-packages (from matplotlib->SciencePlots) (2.8.2)\n",
      "Requirement already satisfied: pyparsing>=2.2.1 in /home/rafaelapb/.local/lib/python3.8/site-packages (from matplotlib->SciencePlots) (3.0.9)\n",
      "Requirement already satisfied: packaging>=20.0 in /home/rafaelapb/.local/lib/python3.8/site-packages (from matplotlib->SciencePlots) (21.3)\n",
      "Requirement already satisfied: six>=1.5 in /usr/lib/python3/dist-packages (from python-dateutil>=2.7->matplotlib->SciencePlots) (1.14.0)\n",
      "Note: you may need to restart the kernel to use updated packages.\n"
     ]
    }
   ],
   "source": [
    "%pip install SciencePlots\n",
    "from functools import reduce\n",
    "from statistics import mean, stdev, mode, quantiles\n",
    "import matplotlib.pyplot as plt\n",
    "plt.style.use(['science','ieee'])\n",
    "\n",
    "import re\n",
    "import pandas as pd\n",
    "from os import walk\n",
    "import numpy as np\n",
    "import matplotlib\n",
    "import os"
   ]
  },
  {
   "cell_type": "code",
   "execution_count": 83,
   "metadata": {},
   "outputs": [
    {
     "name": "stdout",
     "output_type": "stream",
     "text": [
      "/home/rbelchior/blockchain-integration-framework/packages/cactus-plugin-cc-tx-visualization/src/main\n",
      "['/home/rafaelapb/.local/lib/python3.8/site-packages/ipykernel_launcher.py', '--ip=127.0.0.1', '--stdin=9003', '--control=9001', '--hb=9000', '--Session.signature_scheme=\"hmac-sha256\"', '--Session.key=b\"570fd882-196d-43fd-abbb-609464178929\"', '--shell=9002', '--transport=\"tcp\"', '--iopub=9004', '--f=/home/rafaelapb/.local/share/jupyter/runtime/kernel-v2-37019gXZEOztVyiBZ.json']\n",
      "/home/rbelchior/blockchain-integration-framework/packages/cactus-plugin-cc-tx-visualization/src/main/test-results/\n"
     ]
    }
   ],
   "source": [
    "# /usr/bin/env TS_NODE_PROJECT=tsconfig.json 'OFF-HFC_LOGGING={\"debug\":\"console\",\"info\":\"console\"}' 'NODE_OPTIONS=--require /home/rafaelapb/.vscode-server-insiders/bin/4589815e4849499c67125ff68563fa102646b869/extensions/ms-vscode.js-debug/src/bootloader.bundle.js --inspect-publish-uid=http' 'VSCODE_INSPECTOR_OPTIONS={\"inspectorIpc\":\"/tmp/node-cdp.33739-1.sock\",\"deferredMode\":false,\"waitForDebugger\":\"\",\"execPath\":\"/home/rafaelapb/.nvm/versions/node/v16.14.0/bin/node\",\"onlyEntrypoint\":false,\"autoAttachMode\":\"always\",\"mandatePortTracking\":true,\"fileCallback\":\"/tmp/node-debug-callback-10ce8a101bff4e7a\"}' /home/rafaelapb/.nvm/versions/node/v16.14.0/bin/node --require ts-node/register --async-stack-traces packages/cactus-plugin-cc-tx-visualization/src/test/typescript/integration/cctxviz-persist-cross-chain-log.test.ts > packages/cactus-plugin-cc-tx-visualization/src/test/typescript/csv/out.txt\n",
    "path = os.getcwd()\n",
    "parent = os.path.dirname(path)\n",
    "print(parent)\n",
    "test_result_path = parent + \"/test-results/\"\n",
    "NUMBER_TESTS = 30\n",
    "\n",
    "import sys\n",
    "\n",
    "if __name__ == '__main__':\n",
    "    print(sys.argv)\n",
    "    print(test_result_path)\n",
    "\n",
    "\n",
    "\n",
    "\n",
    "def get_all_files(path):\n",
    "    filenames = []\n",
    "    for _, _, filenames in sorted(walk(path)):\n",
    "        break\n",
    "    #regex all out: .*\\.out\n",
    "    # for dummy use case: (.)*-dummy-\\d.out\n",
    "    filenames = [i for i in filenames if re.match(\"(.)*-dummy-\\d+.out\", i)]\n",
    "    return filenames\n"
   ]
  },
  {
   "cell_type": "code",
   "execution_count": 87,
   "metadata": {},
   "outputs": [
    {
     "name": "stdout",
     "output_type": "stream",
     "text": [
      "found 200 matches\n",
      "{'EVAL-ccModel-DUMMY': {'label': 'EVAL-ccModel-DUMMY', 'mean': 76.43, 'stdev': 0.93, 'mode': 76.44, 'quantiles': [76.045, 76.35, 76.6875]}, 'EVAL-SETUP-INIT-RABBIT-MQ-SERVER': {'label': 'EVAL-SETUP-INIT-RABBIT-MQ-SERVER', 'mean': 1375.88, 'stdev': 29.46, 'mode': 1376.0, 'quantiles': [1351.25, 1375.5, 1389.0]}, 'EVAL-plugin-cc-tx-visualization-SETUP-CONSTRUCTOR': {'label': 'EVAL-plugin-cc-tx-visualization-SETUP-CONSTRUCTOR', 'mean': 1.45, 'stdev': 0.53, 'mode': 1.0, 'quantiles': [1.0, 1.0, 2.0]}, 'EVAL-testFile-SETUP-INFRA': {'label': 'EVAL-testFile-SETUP-INFRA', 'mean': 1381.69, 'stdev': 29.57, 'mode': 1382.0, 'quantiles': [1357.0, 1381.0, 1395.75]}, 'EVAL-testFile-POLL': {'label': 'EVAL-testFile-POLL', 'mean': 3038.51, 'stdev': 167.87, 'mode': 3019.0, 'quantiles': [3018.0, 3019.0, 3020.0]}, 'EVAL-testFile-SEND-MESSAGES': {'label': 'EVAL-testFile-SEND-MESSAGES', 'mean': 1.61, 'stdev': 1.08, 'mode': 2.0, 'quantiles': [1.0, 2.0, 2.0]}, 'EVAL-plugin-cc-tx-visualization-RECEIPT2EVENT': {'label': 'EVAL-plugin-cc-tx-visualization-RECEIPT2EVENT', 'mean': 0.48, 'stdev': 0.57, 'mode': 0.0, 'quantiles': [0.0, 0.0, 1.0]}, 'EVAL-plugin-cc-tx-visualization-PERSIST-LOG': {'label': 'EVAL-plugin-cc-tx-visualization-PERSIST-LOG', 'mean': 1.02, 'stdev': 0.42, 'mode': 1.0, 'quantiles': [1.0, 1.0, 1.0]}, 'EVAL-testFile-AGGREGATE-CCTX': {'label': 'EVAL-testFile-AGGREGATE-CCTX', 'mean': 0.54, 'stdev': 0.5, 'mode': 1.0, 'quantiles': [0.0, 1.0, 1.0]}}\n",
      "dict_values([{'label': 'EVAL-ccModel-DUMMY', 'mean': 76.43, 'stdev': 0.93, 'mode': 76.44, 'quantiles': [76.045, 76.35, 76.6875]}, {'label': 'EVAL-SETUP-INIT-RABBIT-MQ-SERVER', 'mean': 1375.88, 'stdev': 29.46, 'mode': 1376.0, 'quantiles': [1351.25, 1375.5, 1389.0]}, {'label': 'EVAL-plugin-cc-tx-visualization-SETUP-CONSTRUCTOR', 'mean': 1.45, 'stdev': 0.53, 'mode': 1.0, 'quantiles': [1.0, 1.0, 2.0]}, {'label': 'EVAL-testFile-SETUP-INFRA', 'mean': 1381.69, 'stdev': 29.57, 'mode': 1382.0, 'quantiles': [1357.0, 1381.0, 1395.75]}, {'label': 'EVAL-testFile-POLL', 'mean': 3038.51, 'stdev': 167.87, 'mode': 3019.0, 'quantiles': [3018.0, 3019.0, 3020.0]}, {'label': 'EVAL-testFile-SEND-MESSAGES', 'mean': 1.61, 'stdev': 1.08, 'mode': 2.0, 'quantiles': [1.0, 2.0, 2.0]}, {'label': 'EVAL-plugin-cc-tx-visualization-RECEIPT2EVENT', 'mean': 0.48, 'stdev': 0.57, 'mode': 0.0, 'quantiles': [0.0, 0.0, 1.0]}, {'label': 'EVAL-plugin-cc-tx-visualization-PERSIST-LOG', 'mean': 1.02, 'stdev': 0.42, 'mode': 1.0, 'quantiles': [1.0, 1.0, 1.0]}, {'label': 'EVAL-testFile-AGGREGATE-CCTX', 'mean': 0.54, 'stdev': 0.5, 'mode': 1.0, 'quantiles': [0.0, 1.0, 1.0]}])\n"
     ]
    }
   ],
   "source": [
    "def exists (element):\n",
    "    if (element):\n",
    "        return True\n",
    "    else:\n",
    "        return False\n",
    "            \n",
    "            # Load out file and puts variables in dict\n",
    "files = get_all_files(test_result_path)\n",
    "print(f\"found {len(files)} matches\")\n",
    "metric_dict = dict()\n",
    "\n",
    "for file in files:\n",
    "    file_path = test_result_path + file\n",
    "    #print (f\"opening {file_path}\\n\")\n",
    "    f = open(file_path)\n",
    "    regex = \"(EVAL-.*):*\"\n",
    "\n",
    "\n",
    "    matches = filter(exists,[re.findall(regex, line) for line in f])\n",
    "    for i in matches:\n",
    "        expression = i[0].split(\":\")\n",
    "        key = expression[0]\n",
    "        value = expression[1]\n",
    "        #already defined\n",
    "        if metric_dict.get(key):\n",
    "            metric_dict[key].append(value)\n",
    "        else: \n",
    "            metric_dict[key] = [value]\n",
    "\n",
    "#print(\"the metric dictionary is\")\n",
    "#print(metric_dict)\n",
    "reduced_metric_dict = dict()\n",
    "#print(metric_dict.values())\n",
    "#reduced_metric_dict = reduce(lambda x, list: x + mean(list), metric_dict.values(),0)       \n",
    "\n",
    "TO_SKIP_EACH_SIDE = 10\n",
    "# remove X first and last entries\n",
    "# we are only counting X-20 entries\n",
    "for element in metric_dict:\n",
    "    metric_dict[element] = metric_dict[element][TO_SKIP_EACH_SIDE:]\n",
    "    metric_dict[element] = metric_dict[element][:len(metric_dict[element])-TO_SKIP_EACH_SIDE]\n",
    "\n",
    "\n",
    "for element in metric_dict:\n",
    "    data_container = {\n",
    "        \"label\": element,\n",
    "        \"mean\": round(mean(map(lambda x: float(x), metric_dict[element])),2),\n",
    "        \"stdev\": round(stdev(map(lambda x: float(x), metric_dict[element])),2),\n",
    "        \"mode\": mode(map(lambda x: float(x), metric_dict[element])),\n",
    "        \"quantiles\": quantiles(map(lambda x: float(x), metric_dict[element])),\n",
    "    }\n",
    "    reduced_metric_dict[element] = data_container\n",
    "print(reduced_metric_dict)\n",
    "print(reduced_metric_dict.values())\n",
    "#print(reduced_metric_dict['EVAL-testFile-SETUP-INFRA']['mean'])\n",
    "\n",
    "\n",
    "\n",
    "    \n",
    "\n"
   ]
  },
  {
   "cell_type": "code",
   "execution_count": 85,
   "metadata": {},
   "outputs": [],
   "source": [
    "mapper = {\n",
    "    # - Initialize Infrastructure (RabbitMQ server, RabbitMQ client, Test ledgers, Connectors), + init cctxviz on test file\n",
    "    'EVAL-testFile-SETUP-INFRA': 'Setup infrastructure',\n",
    "\n",
    "    # send a rabbit mq message or call a modified connector\n",
    "    'EVAL-testFile-SEND-MESSAGES': 'Emit Local Transactions',\n",
    "\n",
    "    # capture rabbit mq messages; can be subdivided see next 2 entries\n",
    "    'EVAL-testFile-POLL': 'Poll Transaction Receipts',\n",
    "\n",
    "    # issue tx and send to rabbit mq - fabric/besu\n",
    "    'EVAL-PluginLedgerConnectorFabric-ISSUE-TRANSACTION': 'Fabric Transaction (modified)',\n",
    "    'EVAL-PluginLedgerConnectorBesu-ISSUE-TRANSACTION': 'Besu Receipt (modified)',\n",
    "    \n",
    "    # transform raw receipt into fabric/besu receipt\n",
    "    'EVAL-PluginLedgerConnectorFabric-GENERATE-AND-CAPTURE-RECEIPT': 'Create Fabric Receipt',\n",
    "    'EVAL-PluginLedgerConnectorBesu-GENERATE-AND-CAPTURE-RECEIPT': 'Create Besu Receipt',\n",
    "\n",
    "    # runs txReceiptToCrossChainEventLogEntry\n",
    "    'EVAL-plugin-cc-tx-visualization-RECEIPT2EVENT': 'Create CC Event',\n",
    "\n",
    "    # runs aggregateCcTx\n",
    "    'EVAL-testFile-AGGREGATE-CCTX': \"Create CC-Tx\",\n",
    "\n",
    "    'EVAL-ccModel-DUMMY': \"Create CC-Model\"\n",
    "}\n",
    "\n"
   ]
  },
  {
   "cell_type": "code",
   "execution_count": 86,
   "metadata": {},
   "outputs": [
    {
     "data": {
      "image/png": "[encoded data removed]",
      "text/plain": [
       "<Figure size 800x500 with 1 Axes>"
      ]
     },
     "metadata": {},
     "output_type": "display_data"
    },
    {
     "data": {
      "text/plain": [
       "<Figure size 331.314x248.486 with 0 Axes>"
      ]
     },
     "metadata": {},
     "output_type": "display_data"
    }
   ],
   "source": [
    "plt.rcParams.update(plt.rcParamsDefault)\n",
    "\n",
    "width = 1.5 # the width# of the bars: can also be len(x) sequence\n",
    "#label = [\"Baseline End-to-end CC-Model Generation\"]\n",
    "label = [\"\"]\n",
    "plt.rcParams[\"font.size\"] = \"12\"\n",
    "fig, ax = plt.subplots(figsize=[8, 5])\n",
    "\n",
    "viridis = plt.cm.get_cmap('tab20c')\n",
    "#viridis.colors = viridis.colors[::-1]\n",
    "\n",
    "phase_1 = reduced_metric_dict['EVAL-testFile-SETUP-INFRA']['mean']\n",
    "phase_1_stdev = reduced_metric_dict['EVAL-testFile-SETUP-INFRA']['stdev']\n",
    "\n",
    "phase_2 = reduced_metric_dict['EVAL-testFile-SEND-MESSAGES']['mean']\n",
    "phase_2_stdev = reduced_metric_dict['EVAL-testFile-SEND-MESSAGES']['stdev']\n",
    "\n",
    "phase_3 = reduced_metric_dict['EVAL-testFile-POLL']['mean']\n",
    "phase_3_stdev = reduced_metric_dict['EVAL-testFile-POLL']['stdev']\n",
    "phase_3_label = mapper['EVAL-testFile-POLL']\n",
    "\n",
    "phase_4 = reduced_metric_dict['EVAL-plugin-cc-tx-visualization-RECEIPT2EVENT']['mean']\n",
    "phase_4_stdev = reduced_metric_dict['EVAL-plugin-cc-tx-visualization-RECEIPT2EVENT']['stdev']\n",
    "phase_4_label = mapper['EVAL-plugin-cc-tx-visualization-RECEIPT2EVENT']\n",
    "\n",
    "phase_5 = reduced_metric_dict['EVAL-testFile-AGGREGATE-CCTX']['mean']\n",
    "phase_5_stdev = reduced_metric_dict['EVAL-testFile-AGGREGATE-CCTX']['stdev']\n",
    "phase_5_label = mapper['EVAL-testFile-AGGREGATE-CCTX']\n",
    "\n",
    "phase_6 = reduced_metric_dict['EVAL-ccModel-DUMMY']['mean']\n",
    "phase_6_stdev = reduced_metric_dict['EVAL-ccModel-DUMMY']['stdev']\n",
    "phase_6_label = mapper['EVAL-ccModel-DUMMY']\n",
    "\n",
    "ax.bar(label, phase_1, width, yerr=phase_1_stdev,\n",
    "           bottom=None,\n",
    "           color=viridis.colors[0],\n",
    "           label=mapper['EVAL-testFile-SETUP-INFRA'])\n",
    "\n",
    "ax.bar(label, phase_2, width, yerr=phase_2_stdev,\n",
    "           bottom=phase_1,\n",
    "           color=viridis.colors[1],\n",
    "           label=mapper['EVAL-testFile-SEND-MESSAGES'])\n",
    "\n",
    "ax.bar(label, phase_3, width, yerr=phase_3_stdev,\n",
    "           bottom=phase_1 + phase_2,\n",
    "           color=viridis.colors[2],\n",
    "           label=phase_3_label)\n",
    "\n",
    "ax.bar(label, phase_4, width, yerr=phase_4_stdev,\n",
    "           bottom=phase_1 + phase_2 + phase_3,\n",
    "           color=viridis.colors[4],\n",
    "           label=phase_4_label)\n",
    "\n",
    "ax.bar(label, phase_5, width, yerr=phase_5_stdev,\n",
    "           bottom=phase_1 + phase_2 + phase_3 + phase_4,\n",
    "           color=viridis.colors[5],\n",
    "           label=phase_5_label)\n",
    "\n",
    "ax.bar(label, phase_6, width, yerr=phase_6_stdev,\n",
    "           bottom=phase_1 + phase_2 + phase_3 + phase_4 + phase_5,\n",
    "           color=viridis.colors[6],\n",
    "           label=phase_6_label)\n",
    "\n",
    "\n",
    "#plt.grid(linestyle='--', linewidth=1, axis='y', alpha=0.7)\n",
    "\n",
    "\n",
    "\n",
    "textwidth = 3.31314\n",
    "aspect_ratio = 6/8\n",
    "scale = 1.0\n",
    "width = textwidth * scale\n",
    "height = width * aspect_ratio\n",
    "\n",
    "ax.set_ylabel('Time (ms)')\n",
    "ax.set_xlim(-3, 8)\n",
    "handles, labels = ax.get_legend_handles_labels()\n",
    "ax.legend(handles[::-1], labels[::-1], loc='upper right')\n",
    "#ax.set_title('Implementation performance depending on Access Control Policies')\n",
    "ax.grid(linestyle='--', linewidth=1, axis='y', alpha=0.7)\n",
    "fig.savefig('../test-results/plots/dummy-baseline.pdf', dpi=300)\n",
    "fig = plt.figure(figsize=(width, height))\n"
   ]
  },
  {
   "cell_type": "markdown",
   "metadata": {},
   "source": []
  }
 ],
 "metadata": {
  "kernelspec": {
   "display_name": "Python 3.8.10 64-bit",
   "language": "python",
   "name": "python3"
  },
  "language_info": {
   "codemirror_mode": {
    "name": "ipython",
    "version": 3
   },
   "file_extension": ".py",
   "mimetype": "text/x-python",
   "name": "python",
   "nbconvert_exporter": "python",
   "pygments_lexer": "ipython3",
   "version": "3.8.10"
  },
  "orig_nbformat": 4,
  "vscode": {
   "interpreter": {
    "hash": "31f2aee4e71d21fbe5cf8b01ff0e069b9275f58929596ceb00d14d90e3e16cd6"
   }
  }
 },
 "nbformat": 4,
 "nbformat_minor": 2
}
